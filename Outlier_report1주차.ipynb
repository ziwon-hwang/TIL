{
  "nbformat": 4,
  "nbformat_minor": 0,
  "metadata": {
    "colab": {
      "name": "Outlier_report1주차.ipynb",
      "provenance": [],
      "collapsed_sections": [],
      "authorship_tag": "ABX9TyOcAYzxkqc/9qAsD3St0MRP",
      "include_colab_link": true
    },
    "kernelspec": {
      "name": "python3",
      "display_name": "Python 3"
    },
    "language_info": {
      "name": "python"
    }
  },
  "cells": [
    {
      "cell_type": "markdown",
      "metadata": {
        "id": "view-in-github",
        "colab_type": "text"
      },
      "source": [
        "<a href=\"https://colab.research.google.com/github/ziwon-hwang/TIL/blob/main/Outlier_report1%EC%A3%BC%EC%B0%A8.ipynb\" target=\"_parent\"><img src=\"https://colab.research.google.com/assets/colab-badge.svg\" alt=\"Open In Colab\"/></a>"
      ]
    },
    {
      "cell_type": "code",
      "metadata": {
        "id": "CRCyH2DR9eNu"
      },
      "source": [
        "import pandas as pd\n",
        "import numpy as np\n",
        "import random"
      ],
      "execution_count": 200,
      "outputs": []
    },
    {
      "cell_type": "code",
      "metadata": {
        "id": "VwqlYq9Z9gr5"
      },
      "source": [
        "a={'A':[55,185],'B':[58,183],'C':[88,186],'D':[60,175],'E':[46,155]}"
      ],
      "execution_count": 201,
      "outputs": []
    },
    {
      "cell_type": "code",
      "metadata": {
        "colab": {
          "base_uri": "https://localhost:8080/",
          "height": 204
        },
        "id": "JZ11UFKx9n1O",
        "outputId": "2a10a6ba-3582-4ae9-9074-b12b1e5eff18"
      },
      "source": [
        "DF=pd.DataFrame(a,index=['몸무게','키'])\n",
        "DF=DF.T\n",
        "DF['total']=0\n",
        "DF"
      ],
      "execution_count": 202,
      "outputs": [
        {
          "output_type": "execute_result",
          "data": {
            "text/html": [
              "<div>\n",
              "<style scoped>\n",
              "    .dataframe tbody tr th:only-of-type {\n",
              "        vertical-align: middle;\n",
              "    }\n",
              "\n",
              "    .dataframe tbody tr th {\n",
              "        vertical-align: top;\n",
              "    }\n",
              "\n",
              "    .dataframe thead th {\n",
              "        text-align: right;\n",
              "    }\n",
              "</style>\n",
              "<table border=\"1\" class=\"dataframe\">\n",
              "  <thead>\n",
              "    <tr style=\"text-align: right;\">\n",
              "      <th></th>\n",
              "      <th>몸무게</th>\n",
              "      <th>키</th>\n",
              "      <th>total</th>\n",
              "    </tr>\n",
              "  </thead>\n",
              "  <tbody>\n",
              "    <tr>\n",
              "      <th>A</th>\n",
              "      <td>55</td>\n",
              "      <td>185</td>\n",
              "      <td>0</td>\n",
              "    </tr>\n",
              "    <tr>\n",
              "      <th>B</th>\n",
              "      <td>58</td>\n",
              "      <td>183</td>\n",
              "      <td>0</td>\n",
              "    </tr>\n",
              "    <tr>\n",
              "      <th>C</th>\n",
              "      <td>88</td>\n",
              "      <td>186</td>\n",
              "      <td>0</td>\n",
              "    </tr>\n",
              "    <tr>\n",
              "      <th>D</th>\n",
              "      <td>60</td>\n",
              "      <td>175</td>\n",
              "      <td>0</td>\n",
              "    </tr>\n",
              "    <tr>\n",
              "      <th>E</th>\n",
              "      <td>46</td>\n",
              "      <td>155</td>\n",
              "      <td>0</td>\n",
              "    </tr>\n",
              "  </tbody>\n",
              "</table>\n",
              "</div>"
            ],
            "text/plain": [
              "   몸무게    키  total\n",
              "A   55  185      0\n",
              "B   58  183      0\n",
              "C   88  186      0\n",
              "D   60  175      0\n",
              "E   46  155      0"
            ]
          },
          "metadata": {},
          "execution_count": 202
        }
      ]
    },
    {
      "cell_type": "code",
      "metadata": {
        "id": "SLNUMexbDBQX"
      },
      "source": [
        "def df_comp(A,B):\n",
        "  if DF.loc[A,'몸무게'] >DF.loc[B,'몸무게'] and DF.loc[A,'키']>DF.loc[B,'키']:\n",
        "    result=A\n",
        "  elif DF.loc[A,'몸무게'] <DF.loc[B,'몸무게'] and DF.loc[A,'키']<DF.loc[B,'키']:\n",
        "    result=B\n",
        "  else:\n",
        "    result=0\n",
        "  return result"
      ],
      "execution_count": 203,
      "outputs": []
    },
    {
      "cell_type": "code",
      "metadata": {
        "colab": {
          "base_uri": "https://localhost:8080/"
        },
        "id": "LNk86OjZ872G",
        "outputId": "53e7933b-7337-4092-e4b3-3de516b670e1"
      },
      "source": [
        "for i in range(len(DF)): #01234\n",
        "  for n in range(i+1,len(DF)): #1234\n",
        "    b=df_comp(DF.index[i],DF.index[n])\n",
        "    print(f'{DF.index[i]}와{DF.index[n]}의 비교결과는 = {b}')"
      ],
      "execution_count": 204,
      "outputs": [
        {
          "output_type": "stream",
          "name": "stdout",
          "text": [
            "A와B의 비교결과는 = 0\n",
            "A와C의 비교결과는 = C\n",
            "A와D의 비교결과는 = 0\n",
            "A와E의 비교결과는 = A\n",
            "B와C의 비교결과는 = C\n",
            "B와D의 비교결과는 = 0\n",
            "B와E의 비교결과는 = B\n",
            "C와D의 비교결과는 = C\n",
            "C와E의 비교결과는 = C\n",
            "D와E의 비교결과는 = D\n"
          ]
        }
      ]
    },
    {
      "cell_type": "code",
      "metadata": {
        "colab": {
          "base_uri": "https://localhost:8080/",
          "height": 204
        },
        "id": "wweySy3P9R5E",
        "outputId": "21667a88-c5ff-464e-b20f-1520968d5650"
      },
      "source": [
        "for i in range(len(DF)): #01234\n",
        "  for n in range(i+1,len(DF)): #1234\n",
        "    b=df_comp(DF.index[i],DF.index[n])\n",
        "    if b in DF.index:\n",
        "      DF.loc[b,'total']+=1\n",
        "DF"
      ],
      "execution_count": 205,
      "outputs": [
        {
          "output_type": "execute_result",
          "data": {
            "text/html": [
              "<div>\n",
              "<style scoped>\n",
              "    .dataframe tbody tr th:only-of-type {\n",
              "        vertical-align: middle;\n",
              "    }\n",
              "\n",
              "    .dataframe tbody tr th {\n",
              "        vertical-align: top;\n",
              "    }\n",
              "\n",
              "    .dataframe thead th {\n",
              "        text-align: right;\n",
              "    }\n",
              "</style>\n",
              "<table border=\"1\" class=\"dataframe\">\n",
              "  <thead>\n",
              "    <tr style=\"text-align: right;\">\n",
              "      <th></th>\n",
              "      <th>몸무게</th>\n",
              "      <th>키</th>\n",
              "      <th>total</th>\n",
              "    </tr>\n",
              "  </thead>\n",
              "  <tbody>\n",
              "    <tr>\n",
              "      <th>A</th>\n",
              "      <td>55</td>\n",
              "      <td>185</td>\n",
              "      <td>1</td>\n",
              "    </tr>\n",
              "    <tr>\n",
              "      <th>B</th>\n",
              "      <td>58</td>\n",
              "      <td>183</td>\n",
              "      <td>1</td>\n",
              "    </tr>\n",
              "    <tr>\n",
              "      <th>C</th>\n",
              "      <td>88</td>\n",
              "      <td>186</td>\n",
              "      <td>4</td>\n",
              "    </tr>\n",
              "    <tr>\n",
              "      <th>D</th>\n",
              "      <td>60</td>\n",
              "      <td>175</td>\n",
              "      <td>1</td>\n",
              "    </tr>\n",
              "    <tr>\n",
              "      <th>E</th>\n",
              "      <td>46</td>\n",
              "      <td>155</td>\n",
              "      <td>0</td>\n",
              "    </tr>\n",
              "  </tbody>\n",
              "</table>\n",
              "</div>"
            ],
            "text/plain": [
              "   몸무게    키  total\n",
              "A   55  185      1\n",
              "B   58  183      1\n",
              "C   88  186      4\n",
              "D   60  175      1\n",
              "E   46  155      0"
            ]
          },
          "metadata": {},
          "execution_count": 205
        }
      ]
    },
    {
      "cell_type": "code",
      "metadata": {
        "colab": {
          "base_uri": "https://localhost:8080/",
          "height": 204
        },
        "id": "nnZ_ssepFsy2",
        "outputId": "09e4d512-d18b-4ace-d716-aef2d1fbcd4e"
      },
      "source": [
        "DF['순위']=DF['total'].rank(method='dense',ascending=False)\n",
        "DF['순위'] = DF['순위'].astype(int)\n",
        "DF\n",
        "#DF.sort_values(by='순위')"
      ],
      "execution_count": 206,
      "outputs": [
        {
          "output_type": "execute_result",
          "data": {
            "text/html": [
              "<div>\n",
              "<style scoped>\n",
              "    .dataframe tbody tr th:only-of-type {\n",
              "        vertical-align: middle;\n",
              "    }\n",
              "\n",
              "    .dataframe tbody tr th {\n",
              "        vertical-align: top;\n",
              "    }\n",
              "\n",
              "    .dataframe thead th {\n",
              "        text-align: right;\n",
              "    }\n",
              "</style>\n",
              "<table border=\"1\" class=\"dataframe\">\n",
              "  <thead>\n",
              "    <tr style=\"text-align: right;\">\n",
              "      <th></th>\n",
              "      <th>몸무게</th>\n",
              "      <th>키</th>\n",
              "      <th>total</th>\n",
              "      <th>순위</th>\n",
              "    </tr>\n",
              "  </thead>\n",
              "  <tbody>\n",
              "    <tr>\n",
              "      <th>A</th>\n",
              "      <td>55</td>\n",
              "      <td>185</td>\n",
              "      <td>1</td>\n",
              "      <td>2</td>\n",
              "    </tr>\n",
              "    <tr>\n",
              "      <th>B</th>\n",
              "      <td>58</td>\n",
              "      <td>183</td>\n",
              "      <td>1</td>\n",
              "      <td>2</td>\n",
              "    </tr>\n",
              "    <tr>\n",
              "      <th>C</th>\n",
              "      <td>88</td>\n",
              "      <td>186</td>\n",
              "      <td>4</td>\n",
              "      <td>1</td>\n",
              "    </tr>\n",
              "    <tr>\n",
              "      <th>D</th>\n",
              "      <td>60</td>\n",
              "      <td>175</td>\n",
              "      <td>1</td>\n",
              "      <td>2</td>\n",
              "    </tr>\n",
              "    <tr>\n",
              "      <th>E</th>\n",
              "      <td>46</td>\n",
              "      <td>155</td>\n",
              "      <td>0</td>\n",
              "      <td>3</td>\n",
              "    </tr>\n",
              "  </tbody>\n",
              "</table>\n",
              "</div>"
            ],
            "text/plain": [
              "   몸무게    키  total  순위\n",
              "A   55  185      1   2\n",
              "B   58  183      1   2\n",
              "C   88  186      4   1\n",
              "D   60  175      1   2\n",
              "E   46  155      0   3"
            ]
          },
          "metadata": {},
          "execution_count": 206
        }
      ]
    },
    {
      "cell_type": "markdown",
      "metadata": {
        "id": "iKJTLgO6IgOV"
      },
      "source": [
        "# 입력"
      ]
    },
    {
      "cell_type": "code",
      "metadata": {
        "id": "Gp5Q1tRfMLw3",
        "colab": {
          "base_uri": "https://localhost:8080/"
        },
        "outputId": "ee74ab75-cee7-429a-881b-a7e2e58a1077"
      },
      "source": [
        "from string import ascii_uppercase\n",
        "a={}\n",
        "alpha_list = list(ascii_uppercase)\n",
        "N=input()\n",
        "people=alpha_list[0:int(N)]\n",
        "for p in range(len(people)):\n",
        "  for r in range(int(N)):\n",
        "    weight=random.randint(10,200)\n",
        "    height=random.randint(10,200)\n",
        "    a[people[p]]=[weight,height]\n",
        "  print(weight,'',height)\n",
        "  \n",
        "print(a)\n",
        "\n"
      ],
      "execution_count": 207,
      "outputs": [
        {
          "output_type": "stream",
          "name": "stdout",
          "text": [
            "5\n",
            "17  62\n",
            "50  175\n",
            "52  164\n",
            "32  45\n",
            "38  87\n",
            "{'A': [17, 62], 'B': [50, 175], 'C': [52, 164], 'D': [32, 45], 'E': [38, 87]}\n"
          ]
        }
      ]
    },
    {
      "cell_type": "code",
      "metadata": {
        "colab": {
          "base_uri": "https://localhost:8080/",
          "height": 204
        },
        "id": "B48UyihRHcyL",
        "outputId": "e89076b2-6ac7-46b0-9dae-fd5a7211fb9d"
      },
      "source": [
        "DF=pd.DataFrame(a,index=['몸무게','키'])\n",
        "DF=DF.T\n",
        "DF['total']=0\n",
        "DF"
      ],
      "execution_count": 208,
      "outputs": [
        {
          "output_type": "execute_result",
          "data": {
            "text/html": [
              "<div>\n",
              "<style scoped>\n",
              "    .dataframe tbody tr th:only-of-type {\n",
              "        vertical-align: middle;\n",
              "    }\n",
              "\n",
              "    .dataframe tbody tr th {\n",
              "        vertical-align: top;\n",
              "    }\n",
              "\n",
              "    .dataframe thead th {\n",
              "        text-align: right;\n",
              "    }\n",
              "</style>\n",
              "<table border=\"1\" class=\"dataframe\">\n",
              "  <thead>\n",
              "    <tr style=\"text-align: right;\">\n",
              "      <th></th>\n",
              "      <th>몸무게</th>\n",
              "      <th>키</th>\n",
              "      <th>total</th>\n",
              "    </tr>\n",
              "  </thead>\n",
              "  <tbody>\n",
              "    <tr>\n",
              "      <th>A</th>\n",
              "      <td>17</td>\n",
              "      <td>62</td>\n",
              "      <td>0</td>\n",
              "    </tr>\n",
              "    <tr>\n",
              "      <th>B</th>\n",
              "      <td>50</td>\n",
              "      <td>175</td>\n",
              "      <td>0</td>\n",
              "    </tr>\n",
              "    <tr>\n",
              "      <th>C</th>\n",
              "      <td>52</td>\n",
              "      <td>164</td>\n",
              "      <td>0</td>\n",
              "    </tr>\n",
              "    <tr>\n",
              "      <th>D</th>\n",
              "      <td>32</td>\n",
              "      <td>45</td>\n",
              "      <td>0</td>\n",
              "    </tr>\n",
              "    <tr>\n",
              "      <th>E</th>\n",
              "      <td>38</td>\n",
              "      <td>87</td>\n",
              "      <td>0</td>\n",
              "    </tr>\n",
              "  </tbody>\n",
              "</table>\n",
              "</div>"
            ],
            "text/plain": [
              "   몸무게    키  total\n",
              "A   17   62      0\n",
              "B   50  175      0\n",
              "C   52  164      0\n",
              "D   32   45      0\n",
              "E   38   87      0"
            ]
          },
          "metadata": {},
          "execution_count": 208
        }
      ]
    },
    {
      "cell_type": "code",
      "metadata": {
        "colab": {
          "base_uri": "https://localhost:8080/",
          "height": 204
        },
        "id": "OZfs6qUiH90_",
        "outputId": "e37b445a-64eb-419f-97da-cb95a15f52f2"
      },
      "source": [
        "for i in range(len(DF)): #01234\n",
        "  for n in range(i+1,len(DF)): #1234\n",
        "    b=df_comp(DF.index[i],DF.index[n])\n",
        "    if b in DF.index:\n",
        "      DF.loc[b,'total']+=1\n",
        "DF"
      ],
      "execution_count": 209,
      "outputs": [
        {
          "output_type": "execute_result",
          "data": {
            "text/html": [
              "<div>\n",
              "<style scoped>\n",
              "    .dataframe tbody tr th:only-of-type {\n",
              "        vertical-align: middle;\n",
              "    }\n",
              "\n",
              "    .dataframe tbody tr th {\n",
              "        vertical-align: top;\n",
              "    }\n",
              "\n",
              "    .dataframe thead th {\n",
              "        text-align: right;\n",
              "    }\n",
              "</style>\n",
              "<table border=\"1\" class=\"dataframe\">\n",
              "  <thead>\n",
              "    <tr style=\"text-align: right;\">\n",
              "      <th></th>\n",
              "      <th>몸무게</th>\n",
              "      <th>키</th>\n",
              "      <th>total</th>\n",
              "    </tr>\n",
              "  </thead>\n",
              "  <tbody>\n",
              "    <tr>\n",
              "      <th>A</th>\n",
              "      <td>17</td>\n",
              "      <td>62</td>\n",
              "      <td>0</td>\n",
              "    </tr>\n",
              "    <tr>\n",
              "      <th>B</th>\n",
              "      <td>50</td>\n",
              "      <td>175</td>\n",
              "      <td>3</td>\n",
              "    </tr>\n",
              "    <tr>\n",
              "      <th>C</th>\n",
              "      <td>52</td>\n",
              "      <td>164</td>\n",
              "      <td>3</td>\n",
              "    </tr>\n",
              "    <tr>\n",
              "      <th>D</th>\n",
              "      <td>32</td>\n",
              "      <td>45</td>\n",
              "      <td>0</td>\n",
              "    </tr>\n",
              "    <tr>\n",
              "      <th>E</th>\n",
              "      <td>38</td>\n",
              "      <td>87</td>\n",
              "      <td>2</td>\n",
              "    </tr>\n",
              "  </tbody>\n",
              "</table>\n",
              "</div>"
            ],
            "text/plain": [
              "   몸무게    키  total\n",
              "A   17   62      0\n",
              "B   50  175      3\n",
              "C   52  164      3\n",
              "D   32   45      0\n",
              "E   38   87      2"
            ]
          },
          "metadata": {},
          "execution_count": 209
        }
      ]
    },
    {
      "cell_type": "code",
      "metadata": {
        "colab": {
          "base_uri": "https://localhost:8080/",
          "height": 204
        },
        "id": "OrMdFr3jIAD0",
        "outputId": "408e2332-d20f-4169-ce33-fbdf37059479"
      },
      "source": [
        "DF['순위']=DF['total'].rank(method='dense',ascending=False)\n",
        "DF['순위'] = DF['순위'].astype(int)\n",
        "DF"
      ],
      "execution_count": 210,
      "outputs": [
        {
          "output_type": "execute_result",
          "data": {
            "text/html": [
              "<div>\n",
              "<style scoped>\n",
              "    .dataframe tbody tr th:only-of-type {\n",
              "        vertical-align: middle;\n",
              "    }\n",
              "\n",
              "    .dataframe tbody tr th {\n",
              "        vertical-align: top;\n",
              "    }\n",
              "\n",
              "    .dataframe thead th {\n",
              "        text-align: right;\n",
              "    }\n",
              "</style>\n",
              "<table border=\"1\" class=\"dataframe\">\n",
              "  <thead>\n",
              "    <tr style=\"text-align: right;\">\n",
              "      <th></th>\n",
              "      <th>몸무게</th>\n",
              "      <th>키</th>\n",
              "      <th>total</th>\n",
              "      <th>순위</th>\n",
              "    </tr>\n",
              "  </thead>\n",
              "  <tbody>\n",
              "    <tr>\n",
              "      <th>A</th>\n",
              "      <td>17</td>\n",
              "      <td>62</td>\n",
              "      <td>0</td>\n",
              "      <td>3</td>\n",
              "    </tr>\n",
              "    <tr>\n",
              "      <th>B</th>\n",
              "      <td>50</td>\n",
              "      <td>175</td>\n",
              "      <td>3</td>\n",
              "      <td>1</td>\n",
              "    </tr>\n",
              "    <tr>\n",
              "      <th>C</th>\n",
              "      <td>52</td>\n",
              "      <td>164</td>\n",
              "      <td>3</td>\n",
              "      <td>1</td>\n",
              "    </tr>\n",
              "    <tr>\n",
              "      <th>D</th>\n",
              "      <td>32</td>\n",
              "      <td>45</td>\n",
              "      <td>0</td>\n",
              "      <td>3</td>\n",
              "    </tr>\n",
              "    <tr>\n",
              "      <th>E</th>\n",
              "      <td>38</td>\n",
              "      <td>87</td>\n",
              "      <td>2</td>\n",
              "      <td>2</td>\n",
              "    </tr>\n",
              "  </tbody>\n",
              "</table>\n",
              "</div>"
            ],
            "text/plain": [
              "   몸무게    키  total  순위\n",
              "A   17   62      0   3\n",
              "B   50  175      3   1\n",
              "C   52  164      3   1\n",
              "D   32   45      0   3\n",
              "E   38   87      2   2"
            ]
          },
          "metadata": {},
          "execution_count": 210
        }
      ]
    },
    {
      "cell_type": "markdown",
      "metadata": {
        "id": "3QUxe1vOIo35"
      },
      "source": [
        "# 출력"
      ]
    },
    {
      "cell_type": "code",
      "metadata": {
        "colab": {
          "base_uri": "https://localhost:8080/"
        },
        "id": "w5Z1fy4QIDsl",
        "outputId": "4abf6b0a-b693-40ac-bd03-3298ba60b7a5"
      },
      "source": [
        "for y in range(len(people)):\n",
        "  print(DF.loc[DF.index[y],'순위'],'',end='')"
      ],
      "execution_count": 211,
      "outputs": [
        {
          "output_type": "stream",
          "name": "stdout",
          "text": [
            "3 1 1 3 2 "
          ]
        }
      ]
    }
  ]
}